{
 "cells": [
  {
   "cell_type": "markdown",
   "metadata": {},
   "source": [
    "# 120 Years of Olympic History\n",
    "## by Nikhil Kumar\n",
    "\n",
    "## Preliminary Wrangling\n",
    "\n",
    "> This dataset contains data for all Olympic Games from Athens 1896 to Rio 2016 and was retrieved from [here](https://www.kaggle.com/heesoo37/120-years-of-olympic-history-athletes-and-results). There are over 200,000 rows that contain information on each individual athlete including their gender, medal, country, sport, etc. The data encompasses both the summer and winter games. There is a plethora of valuable data in this dataset that can pave the way to discovering insights of how the Olympics have changed over the years. Let's wrangle this data and get started!"
   ]
  },
  {
   "cell_type": "code",
   "execution_count": 1,
   "metadata": {},
   "outputs": [],
   "source": [
    "# import all packages and set plots to be embedded inline\n",
    "import numpy as np\n",
    "import pandas as pd\n",
    "import matplotlib.pyplot as plt\n",
    "import seaborn as sb\n",
    "import math\n",
    "\n",
    "%matplotlib inline"
   ]
  },
  {
   "cell_type": "code",
   "execution_count": 2,
   "metadata": {},
   "outputs": [
    {
     "data": {
      "text/html": [
       "<div>\n",
       "<style scoped>\n",
       "    .dataframe tbody tr th:only-of-type {\n",
       "        vertical-align: middle;\n",
       "    }\n",
       "\n",
       "    .dataframe tbody tr th {\n",
       "        vertical-align: top;\n",
       "    }\n",
       "\n",
       "    .dataframe thead th {\n",
       "        text-align: right;\n",
       "    }\n",
       "</style>\n",
       "<table border=\"1\" class=\"dataframe\">\n",
       "  <thead>\n",
       "    <tr style=\"text-align: right;\">\n",
       "      <th></th>\n",
       "      <th>ID</th>\n",
       "      <th>Name</th>\n",
       "      <th>Sex</th>\n",
       "      <th>Age</th>\n",
       "      <th>Height</th>\n",
       "      <th>Weight</th>\n",
       "      <th>Team</th>\n",
       "      <th>NOC</th>\n",
       "      <th>Games</th>\n",
       "      <th>Year</th>\n",
       "      <th>Season</th>\n",
       "      <th>City</th>\n",
       "      <th>Sport</th>\n",
       "      <th>Event</th>\n",
       "      <th>Medal</th>\n",
       "    </tr>\n",
       "  </thead>\n",
       "  <tbody>\n",
       "    <tr>\n",
       "      <th>0</th>\n",
       "      <td>1</td>\n",
       "      <td>A Dijiang</td>\n",
       "      <td>M</td>\n",
       "      <td>24.0</td>\n",
       "      <td>180.0</td>\n",
       "      <td>80.0</td>\n",
       "      <td>China</td>\n",
       "      <td>CHN</td>\n",
       "      <td>1992 Summer</td>\n",
       "      <td>1992</td>\n",
       "      <td>Summer</td>\n",
       "      <td>Barcelona</td>\n",
       "      <td>Basketball</td>\n",
       "      <td>Basketball Men's Basketball</td>\n",
       "      <td>NaN</td>\n",
       "    </tr>\n",
       "    <tr>\n",
       "      <th>1</th>\n",
       "      <td>2</td>\n",
       "      <td>A Lamusi</td>\n",
       "      <td>M</td>\n",
       "      <td>23.0</td>\n",
       "      <td>170.0</td>\n",
       "      <td>60.0</td>\n",
       "      <td>China</td>\n",
       "      <td>CHN</td>\n",
       "      <td>2012 Summer</td>\n",
       "      <td>2012</td>\n",
       "      <td>Summer</td>\n",
       "      <td>London</td>\n",
       "      <td>Judo</td>\n",
       "      <td>Judo Men's Extra-Lightweight</td>\n",
       "      <td>NaN</td>\n",
       "    </tr>\n",
       "    <tr>\n",
       "      <th>2</th>\n",
       "      <td>3</td>\n",
       "      <td>Gunnar Nielsen Aaby</td>\n",
       "      <td>M</td>\n",
       "      <td>24.0</td>\n",
       "      <td>NaN</td>\n",
       "      <td>NaN</td>\n",
       "      <td>Denmark</td>\n",
       "      <td>DEN</td>\n",
       "      <td>1920 Summer</td>\n",
       "      <td>1920</td>\n",
       "      <td>Summer</td>\n",
       "      <td>Antwerpen</td>\n",
       "      <td>Football</td>\n",
       "      <td>Football Men's Football</td>\n",
       "      <td>NaN</td>\n",
       "    </tr>\n",
       "    <tr>\n",
       "      <th>3</th>\n",
       "      <td>4</td>\n",
       "      <td>Edgar Lindenau Aabye</td>\n",
       "      <td>M</td>\n",
       "      <td>34.0</td>\n",
       "      <td>NaN</td>\n",
       "      <td>NaN</td>\n",
       "      <td>Denmark/Sweden</td>\n",
       "      <td>DEN</td>\n",
       "      <td>1900 Summer</td>\n",
       "      <td>1900</td>\n",
       "      <td>Summer</td>\n",
       "      <td>Paris</td>\n",
       "      <td>Tug-Of-War</td>\n",
       "      <td>Tug-Of-War Men's Tug-Of-War</td>\n",
       "      <td>Gold</td>\n",
       "    </tr>\n",
       "    <tr>\n",
       "      <th>4</th>\n",
       "      <td>5</td>\n",
       "      <td>Christine Jacoba Aaftink</td>\n",
       "      <td>F</td>\n",
       "      <td>21.0</td>\n",
       "      <td>185.0</td>\n",
       "      <td>82.0</td>\n",
       "      <td>Netherlands</td>\n",
       "      <td>NED</td>\n",
       "      <td>1988 Winter</td>\n",
       "      <td>1988</td>\n",
       "      <td>Winter</td>\n",
       "      <td>Calgary</td>\n",
       "      <td>Speed Skating</td>\n",
       "      <td>Speed Skating Women's 500 metres</td>\n",
       "      <td>NaN</td>\n",
       "    </tr>\n",
       "  </tbody>\n",
       "</table>\n",
       "</div>"
      ],
      "text/plain": [
       "   ID                      Name Sex   Age  Height  Weight            Team  \\\n",
       "0   1                 A Dijiang   M  24.0   180.0    80.0           China   \n",
       "1   2                  A Lamusi   M  23.0   170.0    60.0           China   \n",
       "2   3       Gunnar Nielsen Aaby   M  24.0     NaN     NaN         Denmark   \n",
       "3   4      Edgar Lindenau Aabye   M  34.0     NaN     NaN  Denmark/Sweden   \n",
       "4   5  Christine Jacoba Aaftink   F  21.0   185.0    82.0     Netherlands   \n",
       "\n",
       "   NOC        Games  Year  Season       City          Sport  \\\n",
       "0  CHN  1992 Summer  1992  Summer  Barcelona     Basketball   \n",
       "1  CHN  2012 Summer  2012  Summer     London           Judo   \n",
       "2  DEN  1920 Summer  1920  Summer  Antwerpen       Football   \n",
       "3  DEN  1900 Summer  1900  Summer      Paris     Tug-Of-War   \n",
       "4  NED  1988 Winter  1988  Winter    Calgary  Speed Skating   \n",
       "\n",
       "                              Event Medal  \n",
       "0       Basketball Men's Basketball   NaN  \n",
       "1      Judo Men's Extra-Lightweight   NaN  \n",
       "2           Football Men's Football   NaN  \n",
       "3       Tug-Of-War Men's Tug-Of-War  Gold  \n",
       "4  Speed Skating Women's 500 metres   NaN  "
      ]
     },
     "execution_count": 2,
     "metadata": {},
     "output_type": "execute_result"
    }
   ],
   "source": [
    "df = pd.read_csv('athlete_events.csv')\n",
    "df.head()"
   ]
  },
  {
   "cell_type": "markdown",
   "metadata": {},
   "source": [
    "## Assessing the Data"
   ]
  },
  {
   "cell_type": "code",
   "execution_count": 3,
   "metadata": {},
   "outputs": [
    {
     "data": {
      "text/plain": [
       "(271116, 15)"
      ]
     },
     "execution_count": 3,
     "metadata": {},
     "output_type": "execute_result"
    }
   ],
   "source": [
    "df.shape"
   ]
  },
  {
   "cell_type": "code",
   "execution_count": 4,
   "metadata": {},
   "outputs": [
    {
     "name": "stdout",
     "output_type": "stream",
     "text": [
      "<class 'pandas.core.frame.DataFrame'>\n",
      "RangeIndex: 271116 entries, 0 to 271115\n",
      "Data columns (total 15 columns):\n",
      " #   Column  Non-Null Count   Dtype  \n",
      "---  ------  --------------   -----  \n",
      " 0   ID      271116 non-null  int64  \n",
      " 1   Name    271116 non-null  object \n",
      " 2   Sex     271116 non-null  object \n",
      " 3   Age     261642 non-null  float64\n",
      " 4   Height  210945 non-null  float64\n",
      " 5   Weight  208241 non-null  float64\n",
      " 6   Team    271116 non-null  object \n",
      " 7   NOC     271116 non-null  object \n",
      " 8   Games   271116 non-null  object \n",
      " 9   Year    271116 non-null  int64  \n",
      " 10  Season  271116 non-null  object \n",
      " 11  City    271116 non-null  object \n",
      " 12  Sport   271116 non-null  object \n",
      " 13  Event   271116 non-null  object \n",
      " 14  Medal   39783 non-null   object \n",
      "dtypes: float64(3), int64(2), object(10)\n",
      "memory usage: 31.0+ MB\n"
     ]
    }
   ],
   "source": [
    "df.info()"
   ]
  },
  {
   "cell_type": "code",
   "execution_count": 5,
   "metadata": {},
   "outputs": [
    {
     "data": {
      "text/plain": [
       "array([24., 23., 34., 21., 25., 27., 31., 33., 18., 26., 22., 30., 32.,\n",
       "       28., 54., 20., 17., 43., 47., 29., 41., 45., 49., 53., 57., nan,\n",
       "       19., 38., 35., 16., 37., 15., 42., 46., 40., 36., 14., 39., 48.,\n",
       "       52., 44., 55., 50., 71., 63., 51., 58., 13., 60., 75., 65., 56.,\n",
       "       64., 68., 84., 12., 72., 59., 61., 70., 74., 62., 67., 69., 73.,\n",
       "       66., 11., 76., 88., 96., 80., 10., 81., 77., 97.])"
      ]
     },
     "execution_count": 5,
     "metadata": {},
     "output_type": "execute_result"
    }
   ],
   "source": [
    "df.Age.unique()"
   ]
  },
  {
   "cell_type": "code",
   "execution_count": 6,
   "metadata": {},
   "outputs": [
    {
     "data": {
      "text/plain": [
       "Gold      13372\n",
       "Bronze    13295\n",
       "Silver    13116\n",
       "Name: Medal, dtype: int64"
      ]
     },
     "execution_count": 6,
     "metadata": {},
     "output_type": "execute_result"
    }
   ],
   "source": [
    "df.Medal.value_counts()"
   ]
  },
  {
   "cell_type": "code",
   "execution_count": 7,
   "metadata": {},
   "outputs": [
    {
     "data": {
      "text/plain": [
       "1385"
      ]
     },
     "execution_count": 7,
     "metadata": {},
     "output_type": "execute_result"
    }
   ],
   "source": [
    "df.duplicated().sum()"
   ]
  },
  {
   "cell_type": "code",
   "execution_count": 8,
   "metadata": {},
   "outputs": [
    {
     "data": {
      "text/plain": [
       "ID             0\n",
       "Name           0\n",
       "Sex            0\n",
       "Age         9474\n",
       "Height     60171\n",
       "Weight     62875\n",
       "Team           0\n",
       "NOC            0\n",
       "Games          0\n",
       "Year           0\n",
       "Season         0\n",
       "City           0\n",
       "Sport          0\n",
       "Event          0\n",
       "Medal     231333\n",
       "dtype: int64"
      ]
     },
     "execution_count": 8,
     "metadata": {},
     "output_type": "execute_result"
    }
   ],
   "source": [
    "df.isnull().sum()"
   ]
  },
  {
   "cell_type": "markdown",
   "metadata": {},
   "source": [
    "**Quality Issues**\n",
    "\n",
    "- The values in the `ID` column should be string objects rather than integers\n",
    "- The `Sex`, `Season`, and `Medal` columns should be converted to categorical datatypes\n",
    "- The `Age` column contains float values that should be integers\n",
    "- There are many duplicated rows\n",
    "- There are many null values in the `Height` column\n",
    "- There are many null values in the `Weight` column\n",
    "- The values in the `Height` and `Weight` column should be ints rather than floats with \".0\" at the end\n",
    "\n",
    "**Tidiness Issues**\n",
    "\n",
    "- The `NOC` and `Games` columns contain redundant information and are not needed"
   ]
  },
  {
   "cell_type": "markdown",
   "metadata": {},
   "source": [
    "## Cleaning the Data"
   ]
  },
  {
   "cell_type": "markdown",
   "metadata": {},
   "source": [
    "## Quality Issues"
   ]
  },
  {
   "cell_type": "code",
   "execution_count": 9,
   "metadata": {},
   "outputs": [],
   "source": [
    "# make a copy of the dataset for cleaning\n",
    "df_clean = df.copy()"
   ]
  },
  {
   "cell_type": "markdown",
   "metadata": {},
   "source": [
    "**The values in the `ID` column should be string objects rather than integers**\n",
    "\n",
    "***Define***\n",
    "\n",
    "> Convert the integers in the `ID` column to string objects.\n",
    "\n",
    "***Code***"
   ]
  },
  {
   "cell_type": "code",
   "execution_count": 10,
   "metadata": {},
   "outputs": [],
   "source": [
    "df_clean['ID'] = df_clean['ID'].astype('str')"
   ]
  },
  {
   "cell_type": "markdown",
   "metadata": {},
   "source": [
    "***Test***"
   ]
  },
  {
   "cell_type": "code",
   "execution_count": 11,
   "metadata": {},
   "outputs": [
    {
     "name": "stdout",
     "output_type": "stream",
     "text": [
      "<class 'pandas.core.frame.DataFrame'>\n",
      "RangeIndex: 271116 entries, 0 to 271115\n",
      "Data columns (total 15 columns):\n",
      " #   Column  Non-Null Count   Dtype  \n",
      "---  ------  --------------   -----  \n",
      " 0   ID      271116 non-null  object \n",
      " 1   Name    271116 non-null  object \n",
      " 2   Sex     271116 non-null  object \n",
      " 3   Age     261642 non-null  float64\n",
      " 4   Height  210945 non-null  float64\n",
      " 5   Weight  208241 non-null  float64\n",
      " 6   Team    271116 non-null  object \n",
      " 7   NOC     271116 non-null  object \n",
      " 8   Games   271116 non-null  object \n",
      " 9   Year    271116 non-null  int64  \n",
      " 10  Season  271116 non-null  object \n",
      " 11  City    271116 non-null  object \n",
      " 12  Sport   271116 non-null  object \n",
      " 13  Event   271116 non-null  object \n",
      " 14  Medal   39783 non-null   object \n",
      "dtypes: float64(3), int64(1), object(11)\n",
      "memory usage: 31.0+ MB\n"
     ]
    }
   ],
   "source": [
    "df_clean.info()"
   ]
  },
  {
   "cell_type": "markdown",
   "metadata": {},
   "source": [
    "**The `Sex`, `Season`, and `Medal` columns should be converted to categorical datatypes.**\n",
    "\n",
    "***Define***\n",
    "\n",
    "> Convert these columns to hold categorical datatypes and make sure that the `Medal` column holds ordinal categorical values.\n",
    "\n",
    "***Code***"
   ]
  },
  {
   "cell_type": "code",
   "execution_count": 12,
   "metadata": {},
   "outputs": [],
   "source": [
    "# convert the Sex column\n",
    "genders = ['M','F']\n",
    "sex_dtype = pd.api.types.CategoricalDtype(categories = genders)\n",
    "df_clean['Sex'] = df_clean['Sex'].astype(sex_dtype)\n",
    "\n",
    "# convert the Season column\n",
    "seasons = ['Summer', 'Winter']\n",
    "season_dtype = pd.api.types.CategoricalDtype(categories = seasons)\n",
    "df_clean['Season'] = df_clean['Season'].astype(season_dtype)\n",
    "\n",
    "# convert the Medal column\n",
    "medals = ['Bronze', 'Silver', 'Gold']\n",
    "medal_dtype = pd.api.types.CategoricalDtype(ordered = True, categories = medals)\n",
    "df_clean['Medal'] = df_clean['Medal'].astype(medal_dtype)"
   ]
  },
  {
   "cell_type": "markdown",
   "metadata": {},
   "source": [
    "***Test***"
   ]
  },
  {
   "cell_type": "code",
   "execution_count": 13,
   "metadata": {},
   "outputs": [
    {
     "name": "stdout",
     "output_type": "stream",
     "text": [
      "<class 'pandas.core.frame.DataFrame'>\n",
      "RangeIndex: 271116 entries, 0 to 271115\n",
      "Data columns (total 15 columns):\n",
      " #   Column  Non-Null Count   Dtype   \n",
      "---  ------  --------------   -----   \n",
      " 0   ID      271116 non-null  object  \n",
      " 1   Name    271116 non-null  object  \n",
      " 2   Sex     271116 non-null  category\n",
      " 3   Age     261642 non-null  float64 \n",
      " 4   Height  210945 non-null  float64 \n",
      " 5   Weight  208241 non-null  float64 \n",
      " 6   Team    271116 non-null  object  \n",
      " 7   NOC     271116 non-null  object  \n",
      " 8   Games   271116 non-null  object  \n",
      " 9   Year    271116 non-null  int64   \n",
      " 10  Season  271116 non-null  category\n",
      " 11  City    271116 non-null  object  \n",
      " 12  Sport   271116 non-null  object  \n",
      " 13  Event   271116 non-null  object  \n",
      " 14  Medal   39783 non-null   category\n",
      "dtypes: category(3), float64(3), int64(1), object(8)\n",
      "memory usage: 25.6+ MB\n"
     ]
    }
   ],
   "source": [
    "df_clean.info()"
   ]
  },
  {
   "cell_type": "markdown",
   "metadata": {},
   "source": [
    "**The `Age` column contains float values that should be integers**\n",
    "\n",
    "***Define***\n",
    "\n",
    "> First, delete all the unneeded null values. Slice off the \".0\" from the end of each float using string slicing and then convert this result into an integer.\n",
    "\n",
    "***Code***"
   ]
  },
  {
   "cell_type": "code",
   "execution_count": 14,
   "metadata": {},
   "outputs": [],
   "source": [
    "# delete all null rows from column\n",
    "df_clean = df_clean[df_clean['Age'].notnull()]\n",
    "\n",
    "# convert values to ints\n",
    "df_clean.loc[:,'Age'] = df_clean['Age'].astype('str').str[:-2].astype('int')"
   ]
  },
  {
   "cell_type": "markdown",
   "metadata": {},
   "source": [
    "\n",
    "***Test***"
   ]
  },
  {
   "cell_type": "code",
   "execution_count": 15,
   "metadata": {},
   "outputs": [
    {
     "data": {
      "text/html": [
       "<div>\n",
       "<style scoped>\n",
       "    .dataframe tbody tr th:only-of-type {\n",
       "        vertical-align: middle;\n",
       "    }\n",
       "\n",
       "    .dataframe tbody tr th {\n",
       "        vertical-align: top;\n",
       "    }\n",
       "\n",
       "    .dataframe thead th {\n",
       "        text-align: right;\n",
       "    }\n",
       "</style>\n",
       "<table border=\"1\" class=\"dataframe\">\n",
       "  <thead>\n",
       "    <tr style=\"text-align: right;\">\n",
       "      <th></th>\n",
       "      <th>ID</th>\n",
       "      <th>Name</th>\n",
       "      <th>Sex</th>\n",
       "      <th>Age</th>\n",
       "      <th>Height</th>\n",
       "      <th>Weight</th>\n",
       "      <th>Team</th>\n",
       "      <th>NOC</th>\n",
       "      <th>Games</th>\n",
       "      <th>Year</th>\n",
       "      <th>Season</th>\n",
       "      <th>City</th>\n",
       "      <th>Sport</th>\n",
       "      <th>Event</th>\n",
       "      <th>Medal</th>\n",
       "    </tr>\n",
       "  </thead>\n",
       "  <tbody>\n",
       "    <tr>\n",
       "      <th>0</th>\n",
       "      <td>1</td>\n",
       "      <td>A Dijiang</td>\n",
       "      <td>M</td>\n",
       "      <td>24</td>\n",
       "      <td>180.0</td>\n",
       "      <td>80.0</td>\n",
       "      <td>China</td>\n",
       "      <td>CHN</td>\n",
       "      <td>1992 Summer</td>\n",
       "      <td>1992</td>\n",
       "      <td>Summer</td>\n",
       "      <td>Barcelona</td>\n",
       "      <td>Basketball</td>\n",
       "      <td>Basketball Men's Basketball</td>\n",
       "      <td>NaN</td>\n",
       "    </tr>\n",
       "    <tr>\n",
       "      <th>1</th>\n",
       "      <td>2</td>\n",
       "      <td>A Lamusi</td>\n",
       "      <td>M</td>\n",
       "      <td>23</td>\n",
       "      <td>170.0</td>\n",
       "      <td>60.0</td>\n",
       "      <td>China</td>\n",
       "      <td>CHN</td>\n",
       "      <td>2012 Summer</td>\n",
       "      <td>2012</td>\n",
       "      <td>Summer</td>\n",
       "      <td>London</td>\n",
       "      <td>Judo</td>\n",
       "      <td>Judo Men's Extra-Lightweight</td>\n",
       "      <td>NaN</td>\n",
       "    </tr>\n",
       "    <tr>\n",
       "      <th>2</th>\n",
       "      <td>3</td>\n",
       "      <td>Gunnar Nielsen Aaby</td>\n",
       "      <td>M</td>\n",
       "      <td>24</td>\n",
       "      <td>NaN</td>\n",
       "      <td>NaN</td>\n",
       "      <td>Denmark</td>\n",
       "      <td>DEN</td>\n",
       "      <td>1920 Summer</td>\n",
       "      <td>1920</td>\n",
       "      <td>Summer</td>\n",
       "      <td>Antwerpen</td>\n",
       "      <td>Football</td>\n",
       "      <td>Football Men's Football</td>\n",
       "      <td>NaN</td>\n",
       "    </tr>\n",
       "    <tr>\n",
       "      <th>3</th>\n",
       "      <td>4</td>\n",
       "      <td>Edgar Lindenau Aabye</td>\n",
       "      <td>M</td>\n",
       "      <td>34</td>\n",
       "      <td>NaN</td>\n",
       "      <td>NaN</td>\n",
       "      <td>Denmark/Sweden</td>\n",
       "      <td>DEN</td>\n",
       "      <td>1900 Summer</td>\n",
       "      <td>1900</td>\n",
       "      <td>Summer</td>\n",
       "      <td>Paris</td>\n",
       "      <td>Tug-Of-War</td>\n",
       "      <td>Tug-Of-War Men's Tug-Of-War</td>\n",
       "      <td>Gold</td>\n",
       "    </tr>\n",
       "    <tr>\n",
       "      <th>4</th>\n",
       "      <td>5</td>\n",
       "      <td>Christine Jacoba Aaftink</td>\n",
       "      <td>F</td>\n",
       "      <td>21</td>\n",
       "      <td>185.0</td>\n",
       "      <td>82.0</td>\n",
       "      <td>Netherlands</td>\n",
       "      <td>NED</td>\n",
       "      <td>1988 Winter</td>\n",
       "      <td>1988</td>\n",
       "      <td>Winter</td>\n",
       "      <td>Calgary</td>\n",
       "      <td>Speed Skating</td>\n",
       "      <td>Speed Skating Women's 500 metres</td>\n",
       "      <td>NaN</td>\n",
       "    </tr>\n",
       "  </tbody>\n",
       "</table>\n",
       "</div>"
      ],
      "text/plain": [
       "  ID                      Name Sex  Age  Height  Weight            Team  NOC  \\\n",
       "0  1                 A Dijiang   M   24   180.0    80.0           China  CHN   \n",
       "1  2                  A Lamusi   M   23   170.0    60.0           China  CHN   \n",
       "2  3       Gunnar Nielsen Aaby   M   24     NaN     NaN         Denmark  DEN   \n",
       "3  4      Edgar Lindenau Aabye   M   34     NaN     NaN  Denmark/Sweden  DEN   \n",
       "4  5  Christine Jacoba Aaftink   F   21   185.0    82.0     Netherlands  NED   \n",
       "\n",
       "         Games  Year  Season       City          Sport  \\\n",
       "0  1992 Summer  1992  Summer  Barcelona     Basketball   \n",
       "1  2012 Summer  2012  Summer     London           Judo   \n",
       "2  1920 Summer  1920  Summer  Antwerpen       Football   \n",
       "3  1900 Summer  1900  Summer      Paris     Tug-Of-War   \n",
       "4  1988 Winter  1988  Winter    Calgary  Speed Skating   \n",
       "\n",
       "                              Event Medal  \n",
       "0       Basketball Men's Basketball   NaN  \n",
       "1      Judo Men's Extra-Lightweight   NaN  \n",
       "2           Football Men's Football   NaN  \n",
       "3       Tug-Of-War Men's Tug-Of-War  Gold  \n",
       "4  Speed Skating Women's 500 metres   NaN  "
      ]
     },
     "execution_count": 15,
     "metadata": {},
     "output_type": "execute_result"
    }
   ],
   "source": [
    "df_clean.head()"
   ]
  },
  {
   "cell_type": "markdown",
   "metadata": {},
   "source": [
    "**There are many duplicated rows.**\n",
    "\n",
    "***Define***\n",
    "\n",
    "> Delete all duplicated rows.\n",
    "\n",
    "***Code***"
   ]
  },
  {
   "cell_type": "code",
   "execution_count": 16,
   "metadata": {},
   "outputs": [],
   "source": [
    "# drop the duplicate rows\n",
    "df_clean = df_clean.drop_duplicates()\n",
    "# reset the index of the dataframe\n",
    "df_clean.reset_index(drop = True, inplace = True)"
   ]
  },
  {
   "cell_type": "markdown",
   "metadata": {},
   "source": [
    "***Test***"
   ]
  },
  {
   "cell_type": "code",
   "execution_count": 17,
   "metadata": {},
   "outputs": [
    {
     "data": {
      "text/plain": [
       "0"
      ]
     },
     "execution_count": 17,
     "metadata": {},
     "output_type": "execute_result"
    }
   ],
   "source": [
    "df_clean.duplicated().sum()"
   ]
  },
  {
   "cell_type": "markdown",
   "metadata": {},
   "source": [
    "**There are many null values in the `Height` column.**\n",
    "\n",
    "***Define***\n",
    "\n",
    "> Replace these null values with with the average height value for each gender of athletes in that given year. Dictionaries holding this information for each year and gender must first be made to facilitate this process. A function will then be applied to the dataframe to replace the null values with the appropriate data.\n",
    "\n",
    "***Code***"
   ]
  },
  {
   "cell_type": "code",
   "execution_count": 18,
   "metadata": {},
   "outputs": [],
   "source": [
    "# create empty dictionaries for males and females\n",
    "years = df_clean.Year.unique()\n",
    "male_heights = {}\n",
    "female_heights = {}\n",
    "\n",
    "# iterate through each year in the dataset\n",
    "for year in years:\n",
    "    frame = df_clean.query(\"Year == @year\").groupby(['Year','Sex']).mean()\n",
    "    \n",
    "    # store average male height and round to nearest whole number\n",
    "    male_avg = frame['Height'].values[0]\n",
    "    male_avg = round(male_avg, 0)\n",
    "    \n",
    "    # store average female height and round to nearest whole number\n",
    "    female_avg = frame['Height'].values[1]\n",
    "    female_avg = round(female_avg, 0)\n",
    "    \n",
    "    # add values to the corresponding dictionary\n",
    "    male_heights[year] = male_avg\n",
    "    female_heights[year] = female_avg"
   ]
  },
  {
   "cell_type": "code",
   "execution_count": 19,
   "metadata": {},
   "outputs": [],
   "source": [
    "def fill_heights(year_col, height_col, sex_col):\n",
    "   \n",
    "    # pick out null values\n",
    "    if math.isnan(height_col):        \n",
    "        year = year_col\n",
    "        \n",
    "        # fill in null with the appropriate male height\n",
    "        if sex_col == 'M':\n",
    "            height_col = male_heights[year]\n",
    "            \n",
    "        # fill in null with the appropriate female height\n",
    "        elif sex_col == 'F':\n",
    "            height_col = female_heights[year]\n",
    "                   \n",
    "    return height_col"
   ]
  },
  {
   "cell_type": "code",
   "execution_count": 20,
   "metadata": {},
   "outputs": [],
   "source": [
    "# apply the function above to the dataframe\n",
    "df_clean['Height'] = df_clean.apply(lambda x: fill_heights(x['Year'],x['Height'],x['Sex']), axis = 1)"
   ]
  },
  {
   "cell_type": "markdown",
   "metadata": {},
   "source": [
    "### Note From Future self\n",
    "\n",
    "After gaining more experience with pandas, I have now realized that the code above is very inefficient. Although working with dictionaries did get the task done, the runtime is much longer than necessary and the code above can be condensed into one line. I know realize that pandas is even more powerful than I thought and is the most efficient when working with vectorized operations and arrays. If I were to perform this task now, rather than using the code above, I would simply use the following line of code: \n",
    "\n",
    "`df_clean['Height'] = df_clean.groupby(['Year','Sex'])['Height'].apply(lambda x: x.fillna(round(x.mean(skipna=True),0)))`\n",
    "\n",
    "I know now to us vectorized operations and work with arrays whenever possible when handling data in dataframes. This same process can be applied to the `Weight` column, which is shown next.*"
   ]
  },
  {
   "cell_type": "markdown",
   "metadata": {},
   "source": [
    "***Test***"
   ]
  },
  {
   "cell_type": "code",
   "execution_count": 21,
   "metadata": {},
   "outputs": [
    {
     "data": {
      "text/plain": [
       "167"
      ]
     },
     "execution_count": 21,
     "metadata": {},
     "output_type": "execute_result"
    }
   ],
   "source": [
    "df_clean.Height.isnull().sum()"
   ]
  },
  {
   "cell_type": "code",
   "execution_count": 22,
   "metadata": {},
   "outputs": [
    {
     "data": {
      "text/plain": [
       "array([1900, 1912, 1908, 1904, 1906], dtype=int64)"
      ]
     },
     "execution_count": 22,
     "metadata": {},
     "output_type": "execute_result"
    }
   ],
   "source": [
    "df_clean[df_clean['Height'].isnull()].Year.unique()"
   ]
  },
  {
   "cell_type": "markdown",
   "metadata": {},
   "source": [
    "> The process was mostly successful, but there appears to be 5 years in the dataset that do not have heights recorded. We will leave these rows as is since they contain other information that will be important for the analysis. We must be aware of these missing heights during the analysis."
   ]
  },
  {
   "cell_type": "markdown",
   "metadata": {},
   "source": [
    "**There are many null values in the `Weight` column.**\n",
    "\n",
    "***Define***\n",
    "\n",
    "> Replace these null values with with the average weight value for each gender of athletes in that given year. Dictionaries holding this information for each year and gender must first be made to facilitate this process. A function will then be applied to the dataframe to replace the null values with the appropriate data. This is the same process carried out for the missing heights.\n",
    "\n",
    "***Code***"
   ]
  },
  {
   "cell_type": "code",
   "execution_count": 23,
   "metadata": {},
   "outputs": [],
   "source": [
    "# create empty dictionaries for males and females\n",
    "years = df_clean.Year.unique()\n",
    "male_weights = {}\n",
    "female_weights = {}\n",
    "\n",
    "# iterate through each year in the dataset\n",
    "for year in years:\n",
    "    frame = df_clean.query(\"Year == @year\").groupby(['Year','Sex']).mean()\n",
    "    \n",
    "    # store average male weight and round to nearest whole number\n",
    "    male_avg = frame['Weight'].values[0]\n",
    "    male_avg = round(male_avg, 0)\n",
    "    \n",
    "    # store average female weight and round to nearest whole number\n",
    "    female_avg = frame['Weight'].values[1]\n",
    "    female_avg = round(female_avg, 0)\n",
    "    \n",
    "    # add values to the corresponding dictionary\n",
    "    male_weights[year] = male_avg\n",
    "    female_weights[year] = female_avg"
   ]
  },
  {
   "cell_type": "code",
   "execution_count": 24,
   "metadata": {},
   "outputs": [],
   "source": [
    "def fill_weights(year_col, weight_col, sex_col):\n",
    "   \n",
    "    # pick out null values\n",
    "    if math.isnan(weight_col):        \n",
    "        year = year_col\n",
    "        \n",
    "        # fill in null with the appropriate male height\n",
    "        if sex_col == 'M':\n",
    "            weight_col = male_weights[year]\n",
    "            \n",
    "        # fill in null with the appropriate female height\n",
    "        elif sex_col == 'F':\n",
    "            weight_col = female_weights[year]\n",
    "                   \n",
    "    return weight_col"
   ]
  },
  {
   "cell_type": "code",
   "execution_count": 25,
   "metadata": {},
   "outputs": [],
   "source": [
    "# apply the function above to the dataframe\n",
    "df_clean['Weight'] = df_clean.apply(lambda x: fill_weights(x['Year'],x['Weight'],x['Sex']), axis = 1)"
   ]
  },
  {
   "cell_type": "markdown",
   "metadata": {},
   "source": [
    "***Test***"
   ]
  },
  {
   "cell_type": "code",
   "execution_count": 26,
   "metadata": {},
   "outputs": [
    {
     "data": {
      "text/plain": [
       "167"
      ]
     },
     "execution_count": 26,
     "metadata": {},
     "output_type": "execute_result"
    }
   ],
   "source": [
    "df_clean.Weight.isnull().sum()"
   ]
  },
  {
   "cell_type": "code",
   "execution_count": 27,
   "metadata": {},
   "outputs": [
    {
     "data": {
      "text/plain": [
       "array([1900, 1912, 1908, 1904, 1906], dtype=int64)"
      ]
     },
     "execution_count": 27,
     "metadata": {},
     "output_type": "execute_result"
    }
   ],
   "source": [
    "df_clean[df_clean['Weight'].isnull()].Year.unique()"
   ]
  },
  {
   "cell_type": "markdown",
   "metadata": {},
   "source": [
    "> There are still some null values because these 5 years do not have any data pertaining to the weight of athletes. These are the same 5 columns that did not have information on height."
   ]
  },
  {
   "cell_type": "markdown",
   "metadata": {},
   "source": [
    "**The values in the `Height` and `Weight` column should be ints rather than floats with \".0\" at the end**\n",
    "\n",
    "***Define***\n",
    "\n",
    "> First, check if there are any values that still need to be rounded to the nearest whole number. Convert all of the floats to strings so that string slicing can be used to remove the \".0\" from each value and then convert these to ints. This will also turn null values into \"n\" strings so we will replace these strings with \"0\" or \"0.0\" strings accordingly. The column can then be converted to integers. \n",
    "\n",
    "***Code***"
   ]
  },
  {
   "cell_type": "code",
   "execution_count": 28,
   "metadata": {},
   "outputs": [
    {
     "data": {
      "text/plain": [
       "array([180., 170., 176., 177., 185., 188., 183., 168., 186., 182., 172.,\n",
       "       159., 171., 178., 175., 184., 189., 163., 187., 169., 179., 174.,\n",
       "       190., 194., 167., 164., 198., 165., 166., 181., 155., 160., 173.,\n",
       "       192., 195.,  nan, 191., 203., 158., 154., 153., 152., 193., 197.,\n",
       "       157., 207., 147., 156., 162., 150., 202., 161., 210., 205., 200.,\n",
       "       148., 208., 140., 213., 204., 151., 196., 146., 201., 149., 199.,\n",
       "       211., 215., 139., 206., 135., 142., 217., 209., 145., 221., 144.,\n",
       "       214., 143., 218., 127., 223., 216., 141., 132., 212., 136., 137.,\n",
       "       138., 220., 130., 219., 133., 128., 226.])"
      ]
     },
     "execution_count": 28,
     "metadata": {},
     "output_type": "execute_result"
    }
   ],
   "source": [
    "# check all unique values in the Height column\n",
    "df_clean.Height.unique()"
   ]
  },
  {
   "cell_type": "code",
   "execution_count": 29,
   "metadata": {},
   "outputs": [],
   "source": [
    "# convert the values in the Height column to ints\n",
    "df_clean['Height'] = df_clean['Height'].astype('str').str[:-2]\n",
    "df_clean['Height'] = df_clean['Height'].replace({'n':'0'})\n",
    "df_clean['Height'] = df_clean['Height'].astype('int')"
   ]
  },
  {
   "cell_type": "code",
   "execution_count": 30,
   "metadata": {},
   "outputs": [
    {
     "data": {
      "text/plain": [
       "array([ 80.        ,  60.        ,  73.        ,  75.        ,\n",
       "        82.        ,  72.        ,  59.        ,  96.        ,\n",
       "        76.5       ,  70.        ,  55.5       ,  65.        ,\n",
       "        85.        ,  64.        , 130.        ,  62.        ,\n",
       "       125.        ,  89.        ,  77.        ,  76.        ,\n",
       "        98.        ,  78.        ,  93.        ,  74.        ,\n",
       "       106.        ,  58.        ,  66.        ,  71.        ,\n",
       "        90.        ,  87.        ,  49.        ,  83.        ,\n",
       "        86.        ,  55.        ,  67.        ,  97.        ,\n",
       "       105.        ,  43.        ,  79.        ,  51.        ,\n",
       "        88.        ,  53.        , 104.        ,  57.        ,\n",
       "        63.        ,  52.        ,          nan,  91.        ,\n",
       "        94.        ,  56.        ,  68.        ,  61.        ,\n",
       "        69.        ,  48.        ,  46.        , 100.        ,\n",
       "        81.        ,  92.        , 120.        ,  95.        ,\n",
       "        50.        , 117.5       ,  54.        ,  47.        ,\n",
       "       117.        ,  84.        , 102.        ,  40.        ,\n",
       "       115.        , 110.        ,  45.        ,  99.        ,\n",
       "       109.        ,  69.5       , 135.        ,  38.        ,\n",
       "       103.        , 163.        , 113.        ,  42.        ,\n",
       "        91.5       ,  82.5       ,  68.5       , 116.        ,\n",
       "       107.        ,  96.5       ,  83.5       ,  44.        ,\n",
       "       122.        , 102.5       ,  71.5       ,  77.5       ,\n",
       "       156.        , 150.        , 160.        ,  95.5       ,\n",
       "       101.        , 146.        , 138.        , 112.        ,\n",
       "       108.        , 140.        , 141.        ,  63.5       ,\n",
       "       114.        , 118.        ,  52.5       , 127.        ,\n",
       "        39.        ,  73.5       , 155.        ,  74.5       ,\n",
       "        32.        , 143.        , 133.        ,  70.5       ,\n",
       "       126.        ,  53.5       , 121.        ,  67.5       ,\n",
       "       111.        , 123.5       ,  41.        ,  36.        ,\n",
       "       132.        , 128.        ,  65.5       ,  98.5       ,\n",
       "       124.        ,  59.5       ,  66.5       , 127.5       ,\n",
       "        35.        , 144.        ,  58.5       , 214.        ,\n",
       "        81.5       ,  37.        , 146.5       , 116.5       ,\n",
       "       148.        , 123.        ,  89.5       , 133.5       ,\n",
       "        86.5       , 101.5       , 154.        , 139.        ,\n",
       "        57.5       , 136.        ,  54.5       , 137.        ,\n",
       "       170.        ,  30.        ,  25.        ,  77.33333333,\n",
       "       131.        ,  85.5       ,  79.5       ,  34.        ,\n",
       "       119.        , 134.        ,  33.        , 109.5       ,\n",
       "        90.5       , 129.        , 147.        ,  56.5       ,\n",
       "        78.5       , 165.        ,  88.5       ,  62.5       ,\n",
       "        60.5       , 158.        ,  75.5       , 190.        ,\n",
       "        64.5       , 145.        , 121.5       ,  61.5       ,\n",
       "       161.        , 176.5       ,  87.5       , 100.5       ,\n",
       "       149.        , 152.        , 108.5       ,  28.        ,\n",
       "        48.5       , 138.5       ,  72.5       , 129.5       ,\n",
       "       131.5       , 167.        ,  84.5       ,  49.5       ,\n",
       "        51.5       , 112.5       , 118.5       , 142.        ,\n",
       "        80.5       , 106.5       , 107.5       ,  31.        ,\n",
       "       135.5       , 137.5       ,  93.5       ,  97.5       ,\n",
       "       103.5       , 175.        , 151.        , 198.        ,\n",
       "       178.        ,  92.5       , 180.        , 104.5       ,\n",
       "       105.5       , 122.5       , 182.        ,  74.66666667,\n",
       "       130.5       ])"
      ]
     },
     "execution_count": 30,
     "metadata": {},
     "output_type": "execute_result"
    }
   ],
   "source": [
    "# check all unique values in the Weight column\n",
    "df_clean.Weight.unique()"
   ]
  },
  {
   "cell_type": "markdown",
   "metadata": {},
   "source": [
    "> It appears that there are many float values that need to be rounded before they can be converted to integers for plotting in the analysis. We will first have to convert the null values to 0s and then round the dataframe."
   ]
  },
  {
   "cell_type": "code",
   "execution_count": 31,
   "metadata": {},
   "outputs": [],
   "source": [
    "# clean up the null values and convert the values in the Weight column to ints\n",
    "df_clean['Weight'] = df_clean['Weight'].replace({np.NaN : '0.0'})\n",
    "df_clean['Weight'] = df_clean['Weight'].astype('float')\n",
    "df_clean['Weight'] = df_clean['Weight'].apply(np.round)\n",
    "df_clean['Weight'] = df_clean['Weight'].astype('str').str[:-2].astype('int')"
   ]
  },
  {
   "cell_type": "markdown",
   "metadata": {},
   "source": [
    "***Test***"
   ]
  },
  {
   "cell_type": "code",
   "execution_count": 32,
   "metadata": {},
   "outputs": [
    {
     "name": "stdout",
     "output_type": "stream",
     "text": [
      "<class 'pandas.core.frame.DataFrame'>\n",
      "RangeIndex: 260416 entries, 0 to 260415\n",
      "Data columns (total 15 columns):\n",
      " #   Column  Non-Null Count   Dtype   \n",
      "---  ------  --------------   -----   \n",
      " 0   ID      260416 non-null  object  \n",
      " 1   Name    260416 non-null  object  \n",
      " 2   Sex     260416 non-null  category\n",
      " 3   Age     260416 non-null  int32   \n",
      " 4   Height  260416 non-null  int32   \n",
      " 5   Weight  260416 non-null  int32   \n",
      " 6   Team    260416 non-null  object  \n",
      " 7   NOC     260416 non-null  object  \n",
      " 8   Games   260416 non-null  object  \n",
      " 9   Year    260416 non-null  int64   \n",
      " 10  Season  260416 non-null  category\n",
      " 11  City    260416 non-null  object  \n",
      " 12  Sport   260416 non-null  object  \n",
      " 13  Event   260416 non-null  object  \n",
      " 14  Medal   39044 non-null   category\n",
      "dtypes: category(3), int32(3), int64(1), object(8)\n",
      "memory usage: 21.6+ MB\n"
     ]
    }
   ],
   "source": [
    "df_clean.info()"
   ]
  },
  {
   "cell_type": "markdown",
   "metadata": {},
   "source": [
    "## Tidiness Issues"
   ]
  },
  {
   "cell_type": "markdown",
   "metadata": {},
   "source": [
    "**The `NOC` and `Games` column contain redundant information and are not needed**\n",
    "\n",
    "***Define***\n",
    "\n",
    "> Delete these columns.\n",
    "\n",
    "***Code***"
   ]
  },
  {
   "cell_type": "code",
   "execution_count": 33,
   "metadata": {},
   "outputs": [],
   "source": [
    "df_clean.drop(columns = ['NOC','Games'], inplace = True)"
   ]
  },
  {
   "cell_type": "markdown",
   "metadata": {},
   "source": [
    "***Test***"
   ]
  },
  {
   "cell_type": "code",
   "execution_count": 34,
   "metadata": {},
   "outputs": [
    {
     "data": {
      "text/plain": [
       "Index(['ID', 'Name', 'Sex', 'Age', 'Height', 'Weight', 'Team', 'Year',\n",
       "       'Season', 'City', 'Sport', 'Event', 'Medal'],\n",
       "      dtype='object')"
      ]
     },
     "execution_count": 34,
     "metadata": {},
     "output_type": "execute_result"
    }
   ],
   "source": [
    "df_clean.columns"
   ]
  },
  {
   "cell_type": "code",
   "execution_count": 35,
   "metadata": {},
   "outputs": [
    {
     "data": {
      "text/html": [
       "<div>\n",
       "<style scoped>\n",
       "    .dataframe tbody tr th:only-of-type {\n",
       "        vertical-align: middle;\n",
       "    }\n",
       "\n",
       "    .dataframe tbody tr th {\n",
       "        vertical-align: top;\n",
       "    }\n",
       "\n",
       "    .dataframe thead th {\n",
       "        text-align: right;\n",
       "    }\n",
       "</style>\n",
       "<table border=\"1\" class=\"dataframe\">\n",
       "  <thead>\n",
       "    <tr style=\"text-align: right;\">\n",
       "      <th></th>\n",
       "      <th>ID</th>\n",
       "      <th>Name</th>\n",
       "      <th>Sex</th>\n",
       "      <th>Age</th>\n",
       "      <th>Height</th>\n",
       "      <th>Weight</th>\n",
       "      <th>Team</th>\n",
       "      <th>Year</th>\n",
       "      <th>Season</th>\n",
       "      <th>City</th>\n",
       "      <th>Sport</th>\n",
       "      <th>Event</th>\n",
       "      <th>Medal</th>\n",
       "    </tr>\n",
       "  </thead>\n",
       "  <tbody>\n",
       "    <tr>\n",
       "      <th>0</th>\n",
       "      <td>1</td>\n",
       "      <td>A Dijiang</td>\n",
       "      <td>M</td>\n",
       "      <td>24</td>\n",
       "      <td>180</td>\n",
       "      <td>80</td>\n",
       "      <td>China</td>\n",
       "      <td>1992</td>\n",
       "      <td>Summer</td>\n",
       "      <td>Barcelona</td>\n",
       "      <td>Basketball</td>\n",
       "      <td>Basketball Men's Basketball</td>\n",
       "      <td>NaN</td>\n",
       "    </tr>\n",
       "    <tr>\n",
       "      <th>1</th>\n",
       "      <td>2</td>\n",
       "      <td>A Lamusi</td>\n",
       "      <td>M</td>\n",
       "      <td>23</td>\n",
       "      <td>170</td>\n",
       "      <td>60</td>\n",
       "      <td>China</td>\n",
       "      <td>2012</td>\n",
       "      <td>Summer</td>\n",
       "      <td>London</td>\n",
       "      <td>Judo</td>\n",
       "      <td>Judo Men's Extra-Lightweight</td>\n",
       "      <td>NaN</td>\n",
       "    </tr>\n",
       "    <tr>\n",
       "      <th>2</th>\n",
       "      <td>3</td>\n",
       "      <td>Gunnar Nielsen Aaby</td>\n",
       "      <td>M</td>\n",
       "      <td>24</td>\n",
       "      <td>176</td>\n",
       "      <td>73</td>\n",
       "      <td>Denmark</td>\n",
       "      <td>1920</td>\n",
       "      <td>Summer</td>\n",
       "      <td>Antwerpen</td>\n",
       "      <td>Football</td>\n",
       "      <td>Football Men's Football</td>\n",
       "      <td>NaN</td>\n",
       "    </tr>\n",
       "    <tr>\n",
       "      <th>3</th>\n",
       "      <td>4</td>\n",
       "      <td>Edgar Lindenau Aabye</td>\n",
       "      <td>M</td>\n",
       "      <td>34</td>\n",
       "      <td>177</td>\n",
       "      <td>75</td>\n",
       "      <td>Denmark/Sweden</td>\n",
       "      <td>1900</td>\n",
       "      <td>Summer</td>\n",
       "      <td>Paris</td>\n",
       "      <td>Tug-Of-War</td>\n",
       "      <td>Tug-Of-War Men's Tug-Of-War</td>\n",
       "      <td>Gold</td>\n",
       "    </tr>\n",
       "    <tr>\n",
       "      <th>4</th>\n",
       "      <td>5</td>\n",
       "      <td>Christine Jacoba Aaftink</td>\n",
       "      <td>F</td>\n",
       "      <td>21</td>\n",
       "      <td>185</td>\n",
       "      <td>82</td>\n",
       "      <td>Netherlands</td>\n",
       "      <td>1988</td>\n",
       "      <td>Winter</td>\n",
       "      <td>Calgary</td>\n",
       "      <td>Speed Skating</td>\n",
       "      <td>Speed Skating Women's 500 metres</td>\n",
       "      <td>NaN</td>\n",
       "    </tr>\n",
       "  </tbody>\n",
       "</table>\n",
       "</div>"
      ],
      "text/plain": [
       "  ID                      Name Sex  Age  Height  Weight            Team  Year  \\\n",
       "0  1                 A Dijiang   M   24     180      80           China  1992   \n",
       "1  2                  A Lamusi   M   23     170      60           China  2012   \n",
       "2  3       Gunnar Nielsen Aaby   M   24     176      73         Denmark  1920   \n",
       "3  4      Edgar Lindenau Aabye   M   34     177      75  Denmark/Sweden  1900   \n",
       "4  5  Christine Jacoba Aaftink   F   21     185      82     Netherlands  1988   \n",
       "\n",
       "   Season       City          Sport                             Event Medal  \n",
       "0  Summer  Barcelona     Basketball       Basketball Men's Basketball   NaN  \n",
       "1  Summer     London           Judo      Judo Men's Extra-Lightweight   NaN  \n",
       "2  Summer  Antwerpen       Football           Football Men's Football   NaN  \n",
       "3  Summer      Paris     Tug-Of-War       Tug-Of-War Men's Tug-Of-War  Gold  \n",
       "4  Winter    Calgary  Speed Skating  Speed Skating Women's 500 metres   NaN  "
      ]
     },
     "execution_count": 35,
     "metadata": {},
     "output_type": "execute_result"
    }
   ],
   "source": [
    "df_clean.head()"
   ]
  },
  {
   "cell_type": "code",
   "execution_count": 36,
   "metadata": {},
   "outputs": [
    {
     "name": "stdout",
     "output_type": "stream",
     "text": [
      "<class 'pandas.core.frame.DataFrame'>\n",
      "RangeIndex: 260416 entries, 0 to 260415\n",
      "Data columns (total 13 columns):\n",
      " #   Column  Non-Null Count   Dtype   \n",
      "---  ------  --------------   -----   \n",
      " 0   ID      260416 non-null  object  \n",
      " 1   Name    260416 non-null  object  \n",
      " 2   Sex     260416 non-null  category\n",
      " 3   Age     260416 non-null  int32   \n",
      " 4   Height  260416 non-null  int32   \n",
      " 5   Weight  260416 non-null  int32   \n",
      " 6   Team    260416 non-null  object  \n",
      " 7   Year    260416 non-null  int64   \n",
      " 8   Season  260416 non-null  category\n",
      " 9   City    260416 non-null  object  \n",
      " 10  Sport   260416 non-null  object  \n",
      " 11  Event   260416 non-null  object  \n",
      " 12  Medal   39044 non-null   category\n",
      "dtypes: category(3), int32(3), int64(1), object(6)\n",
      "memory usage: 17.6+ MB\n"
     ]
    }
   ],
   "source": [
    "df_clean.info()"
   ]
  },
  {
   "cell_type": "code",
   "execution_count": 37,
   "metadata": {},
   "outputs": [],
   "source": [
    "# save the newly cleaned data set to a CSV file\n",
    "df_clean.to_csv('clean-data.csv',index = False)"
   ]
  },
  {
   "cell_type": "code",
   "execution_count": 38,
   "metadata": {},
   "outputs": [
    {
     "data": {
      "text/html": [
       "<div>\n",
       "<style scoped>\n",
       "    .dataframe tbody tr th:only-of-type {\n",
       "        vertical-align: middle;\n",
       "    }\n",
       "\n",
       "    .dataframe tbody tr th {\n",
       "        vertical-align: top;\n",
       "    }\n",
       "\n",
       "    .dataframe thead th {\n",
       "        text-align: right;\n",
       "    }\n",
       "</style>\n",
       "<table border=\"1\" class=\"dataframe\">\n",
       "  <thead>\n",
       "    <tr style=\"text-align: right;\">\n",
       "      <th></th>\n",
       "      <th>ID</th>\n",
       "      <th>Name</th>\n",
       "      <th>Sex</th>\n",
       "      <th>Age</th>\n",
       "      <th>Height</th>\n",
       "      <th>Weight</th>\n",
       "      <th>Team</th>\n",
       "      <th>Year</th>\n",
       "      <th>Season</th>\n",
       "      <th>City</th>\n",
       "      <th>Sport</th>\n",
       "      <th>Event</th>\n",
       "      <th>Medal</th>\n",
       "    </tr>\n",
       "  </thead>\n",
       "  <tbody>\n",
       "    <tr>\n",
       "      <th>0</th>\n",
       "      <td>1</td>\n",
       "      <td>A Dijiang</td>\n",
       "      <td>M</td>\n",
       "      <td>24</td>\n",
       "      <td>180</td>\n",
       "      <td>80</td>\n",
       "      <td>China</td>\n",
       "      <td>1992</td>\n",
       "      <td>Summer</td>\n",
       "      <td>Barcelona</td>\n",
       "      <td>Basketball</td>\n",
       "      <td>Basketball Men's Basketball</td>\n",
       "      <td>NaN</td>\n",
       "    </tr>\n",
       "    <tr>\n",
       "      <th>1</th>\n",
       "      <td>2</td>\n",
       "      <td>A Lamusi</td>\n",
       "      <td>M</td>\n",
       "      <td>23</td>\n",
       "      <td>170</td>\n",
       "      <td>60</td>\n",
       "      <td>China</td>\n",
       "      <td>2012</td>\n",
       "      <td>Summer</td>\n",
       "      <td>London</td>\n",
       "      <td>Judo</td>\n",
       "      <td>Judo Men's Extra-Lightweight</td>\n",
       "      <td>NaN</td>\n",
       "    </tr>\n",
       "    <tr>\n",
       "      <th>2</th>\n",
       "      <td>3</td>\n",
       "      <td>Gunnar Nielsen Aaby</td>\n",
       "      <td>M</td>\n",
       "      <td>24</td>\n",
       "      <td>176</td>\n",
       "      <td>73</td>\n",
       "      <td>Denmark</td>\n",
       "      <td>1920</td>\n",
       "      <td>Summer</td>\n",
       "      <td>Antwerpen</td>\n",
       "      <td>Football</td>\n",
       "      <td>Football Men's Football</td>\n",
       "      <td>NaN</td>\n",
       "    </tr>\n",
       "    <tr>\n",
       "      <th>3</th>\n",
       "      <td>4</td>\n",
       "      <td>Edgar Lindenau Aabye</td>\n",
       "      <td>M</td>\n",
       "      <td>34</td>\n",
       "      <td>177</td>\n",
       "      <td>75</td>\n",
       "      <td>Denmark/Sweden</td>\n",
       "      <td>1900</td>\n",
       "      <td>Summer</td>\n",
       "      <td>Paris</td>\n",
       "      <td>Tug-Of-War</td>\n",
       "      <td>Tug-Of-War Men's Tug-Of-War</td>\n",
       "      <td>Gold</td>\n",
       "    </tr>\n",
       "    <tr>\n",
       "      <th>4</th>\n",
       "      <td>5</td>\n",
       "      <td>Christine Jacoba Aaftink</td>\n",
       "      <td>F</td>\n",
       "      <td>21</td>\n",
       "      <td>185</td>\n",
       "      <td>82</td>\n",
       "      <td>Netherlands</td>\n",
       "      <td>1988</td>\n",
       "      <td>Winter</td>\n",
       "      <td>Calgary</td>\n",
       "      <td>Speed Skating</td>\n",
       "      <td>Speed Skating Women's 500 metres</td>\n",
       "      <td>NaN</td>\n",
       "    </tr>\n",
       "  </tbody>\n",
       "</table>\n",
       "</div>"
      ],
      "text/plain": [
       "   ID                      Name Sex  Age  Height  Weight            Team  \\\n",
       "0   1                 A Dijiang   M   24     180      80           China   \n",
       "1   2                  A Lamusi   M   23     170      60           China   \n",
       "2   3       Gunnar Nielsen Aaby   M   24     176      73         Denmark   \n",
       "3   4      Edgar Lindenau Aabye   M   34     177      75  Denmark/Sweden   \n",
       "4   5  Christine Jacoba Aaftink   F   21     185      82     Netherlands   \n",
       "\n",
       "   Year  Season       City          Sport                             Event  \\\n",
       "0  1992  Summer  Barcelona     Basketball       Basketball Men's Basketball   \n",
       "1  2012  Summer     London           Judo      Judo Men's Extra-Lightweight   \n",
       "2  1920  Summer  Antwerpen       Football           Football Men's Football   \n",
       "3  1900  Summer      Paris     Tug-Of-War       Tug-Of-War Men's Tug-Of-War   \n",
       "4  1988  Winter    Calgary  Speed Skating  Speed Skating Women's 500 metres   \n",
       "\n",
       "  Medal  \n",
       "0   NaN  \n",
       "1   NaN  \n",
       "2   NaN  \n",
       "3  Gold  \n",
       "4   NaN  "
      ]
     },
     "execution_count": 38,
     "metadata": {},
     "output_type": "execute_result"
    }
   ],
   "source": [
    "# read in the data from clean-data.csv\n",
    "df_new = pd.read_csv('clean-data.csv')\n",
    "df_new.head()"
   ]
  },
  {
   "cell_type": "code",
   "execution_count": 39,
   "metadata": {},
   "outputs": [
    {
     "data": {
      "text/plain": [
       "(260416, 13)"
      ]
     },
     "execution_count": 39,
     "metadata": {},
     "output_type": "execute_result"
    }
   ],
   "source": [
    "df_new.shape"
   ]
  },
  {
   "cell_type": "markdown",
   "metadata": {},
   "source": [
    "### Structure of the Dataset\n",
    "\n",
    ">  The newly cleaned dataset contains 260,416 rows and 13 columns. The specific columns hold the following.\n",
    "- `ID` - Assures athlete is unique in each year\n",
    "- `Name` - Name of the athlete\n",
    "- `Sex` - Gender of the athlete\n",
    "- `Height` - Height of each athlete\n",
    "- `Weight` - Weight of each athlete\n",
    "- `Age` - Athlete's age\n",
    "- `Team` - The country the athlete competed for\n",
    "- `Year` - Year of the competition\n",
    "- `Season` - Indication of whether the athlete competed in the Summer or Winter Olympics\n",
    "- `City` - City where the games took place\n",
    "- `Sport` - The sport the athlete competed in\n",
    "- `Event` - The specific even the athlete competed in\n",
    "- `Medal` - The medal (if awarded) won by the athlete in the given event\n",
    "\n",
    "### Main Features of the Dataset\n",
    "\n",
    "> This data could provide intriguing insights of women in the Olympics. It had taken a long time for women to have opportunities to participate in the Olympic Games. It will also be interesting to see which countries tend to win the most medals and in what years they have appeared to be dominant in. Features in the data such as the age, height, and weight of each athlete and specific medals won will be very interesting to examine as well."
   ]
  },
  {
   "cell_type": "markdown",
   "metadata": {},
   "source": [
    "## Univariate Exploration\n",
    "\n",
    "> In this section, we will investigate distributions of individual variables to check for outliers and gain a better understanding of the variable represented by the data. "
   ]
  },
  {
   "cell_type": "markdown",
   "metadata": {},
   "source": [
    "First off, let's compare the number of athletes of each gender in this dataset."
   ]
  },
  {
   "cell_type": "code",
   "execution_count": 40,
   "metadata": {},
   "outputs": [
    {
     "data": {
      "image/png": "[encoded data removed]",
      "text/plain": [
       "<Figure size 576x360 with 1 Axes>"
      ]
     },
     "metadata": {},
     "output_type": "display_data"
    }
   ],
   "source": [
    "sb.set_style('darkgrid')\n",
    "base_color = sb.color_palette('colorblind')[0]\n",
    "plt.figure(figsize=[8,5])\n",
    "sb.countplot(data = df_new, x = 'Sex', color = base_color)\n",
    "plt.xlabel('Sex', fontsize = 12)\n",
    "plt.ylabel('Count', fontsize = 12);"
   ]
  },
  {
   "cell_type": "markdown",
   "metadata": {},
   "source": [
    "> As expected, there are far more males in this dataset than females especially since females could not participate in the Olympic Games for many years."
   ]
  },
  {
   "cell_type": "markdown",
   "metadata": {},
   "source": [
    "Let's now take a look at the distribution of the ages of these athletes."
   ]
  },
  {
   "cell_type": "code",
   "execution_count": 41,
   "metadata": {},
   "outputs": [
    {
     "data": {
      "text/plain": [
       "count    260416.000000\n",
       "mean         25.454776\n",
       "std           6.163869\n",
       "min          10.000000\n",
       "25%          21.000000\n",
       "50%          24.000000\n",
       "75%          28.000000\n",
       "max          97.000000\n",
       "Name: Age, dtype: float64"
      ]
     },
     "execution_count": 41,
     "metadata": {},
     "output_type": "execute_result"
    }
   ],
   "source": [
    "df_new.Age.describe()"
   ]
  },
  {
   "cell_type": "markdown",
   "metadata": {},
   "source": [
    "> Apparently the oldest athlete is 97 years old, which is very odd. According to Google, the oldest athlete in the Olympics was 72 years old. We must clean this before continueing with the exploration."
   ]
  },
  {
   "cell_type": "code",
   "execution_count": 42,
   "metadata": {},
   "outputs": [],
   "source": [
    "df_new = df_new.query(\"Age <= 72\")"
   ]
  },
  {
   "cell_type": "code",
   "execution_count": 43,
   "metadata": {},
   "outputs": [
    {
     "data": {
      "image/png": "[encoded data removed]",
      "text/plain": [
       "<Figure size 576x360 with 1 Axes>"
      ]
     },
     "metadata": {},
     "output_type": "display_data"
    }
   ],
   "source": [
    "plt.figure(figsize = [8,5])\n",
    "bins = np.arange(10,70,5)\n",
    "plt.hist(data = df_new, x = 'Age', bins = bins)\n",
    "plt.xlabel('Age', fontsize = 12)\n",
    "plt.ylabel('Count', fontsize = 12);"
   ]
  },
  {
   "cell_type": "markdown",
   "metadata": {},
   "source": [
    "> It is clear that most Olympic athletes are between 20 and 25 years of age. This is expected as many young athletes come and compete at the olympics. The youngest athlete to compete was 10 years old! We must notice that this dataset happens to be missing the oldest athlete to compete, which was Oscar Gomer Swahn at 72 years old."
   ]
  },
  {
   "cell_type": "markdown",
   "metadata": {},
   "source": [
    "Another insight we can observe is the top countries who have won the most medals overall in this dataset"
   ]
  },
  {
   "cell_type": "code",
   "execution_count": 44,
   "metadata": {},
   "outputs": [
    {
     "data": {
      "image/png": "[encoded data removed]",
      "text/plain": [
       "<Figure size 576x360 with 1 Axes>"
      ]
     },
     "metadata": {},
     "output_type": "display_data"
    }
   ],
   "source": [
    "awarded = df_new[df_new['Medal'].notnull()]\n",
    "top_teams = awarded.Team.value_counts()[:10]\n",
    "plt.figure(figsize = [8,5])\n",
    "plt.bar(top_teams.index, top_teams.values)\n",
    "plt.xticks(rotation = 30)\n",
    "plt.xlabel('Team', fontsize = 12)\n",
    "plt.ylabel('Count', fontsize = 12);"
   ]
  },
  {
   "cell_type": "markdown",
   "metadata": {},
   "source": [
    "> It is clear that the United States has by far the most Olympic medals with the Soviet Union being seconds and Germany at third."
   ]
  },
  {
   "cell_type": "markdown",
   "metadata": {},
   "source": [
    "Another key feature to look into is the distribution of athlete heights in the data."
   ]
  },
  {
   "cell_type": "code",
   "execution_count": 45,
   "metadata": {},
   "outputs": [
    {
     "data": {
      "text/plain": [
       "count    260392.000000\n",
       "mean        175.271245\n",
       "std          10.580786\n",
       "min           0.000000\n",
       "25%         169.000000\n",
       "50%         176.000000\n",
       "75%         180.000000\n",
       "max         226.000000\n",
       "Name: Height, dtype: float64"
      ]
     },
     "execution_count": 45,
     "metadata": {},
     "output_type": "execute_result"
    }
   ],
   "source": [
    "df_new.Height.describe()"
   ]
  },
  {
   "cell_type": "code",
   "execution_count": 46,
   "metadata": {},
   "outputs": [
    {
     "data": {
      "text/plain": [
       "count    260225.000000\n",
       "mean        175.383726\n",
       "std           9.607159\n",
       "min         127.000000\n",
       "25%         169.000000\n",
       "50%         176.000000\n",
       "75%         180.000000\n",
       "max         226.000000\n",
       "Name: Height, dtype: float64"
      ]
     },
     "execution_count": 46,
     "metadata": {},
     "output_type": "execute_result"
    }
   ],
   "source": [
    "height_df = df_new.query(\"Height > 0\")\n",
    "height_df.Height.describe()"
   ]
  },
  {
   "cell_type": "code",
   "execution_count": 47,
   "metadata": {},
   "outputs": [
    {
     "data": {
      "image/png": "[encoded data removed]",
      "text/plain": [
       "<Figure size 576x360 with 1 Axes>"
      ]
     },
     "metadata": {},
     "output_type": "display_data"
    }
   ],
   "source": [
    "plt.figure(figsize=[8,5])\n",
    "bins = np.arange(125,220,12)\n",
    "plt.hist(data = height_df, x = 'Height', bins = bins)\n",
    "plt.xlabel('Height of Athletes (cm)', fontsize = 12)\n",
    "plt.ylabel('Count', fontsize = 12);"
   ]
  },
  {
   "cell_type": "markdown",
   "metadata": {},
   "source": [
    "> It is clear that the majority of the athetes in this dataset are around 170 - 180 centimeters tall. It will be interesting to see how the average height of Olympic athletes has changed over time."
   ]
  },
  {
   "cell_type": "markdown",
   "metadata": {},
   "source": [
    "Finally, let's obsrve the distribution of the weight of athletes in the data."
   ]
  },
  {
   "cell_type": "code",
   "execution_count": 48,
   "metadata": {},
   "outputs": [
    {
     "data": {
      "text/plain": [
       "count    260392.000000\n",
       "mean         70.820494\n",
       "std          13.144780\n",
       "min           0.000000\n",
       "25%          62.000000\n",
       "50%          72.000000\n",
       "75%          76.000000\n",
       "max         214.000000\n",
       "Name: Weight, dtype: float64"
      ]
     },
     "execution_count": 48,
     "metadata": {},
     "output_type": "execute_result"
    }
   ],
   "source": [
    "df_new.Weight.describe()"
   ]
  },
  {
   "cell_type": "code",
   "execution_count": 49,
   "metadata": {},
   "outputs": [
    {
     "data": {
      "text/plain": [
       "count    260225.000000\n",
       "mean         70.865943\n",
       "std          13.025947\n",
       "min          25.000000\n",
       "50%          72.000000\n",
       "99%         110.000000\n",
       "max         214.000000\n",
       "Name: Weight, dtype: float64"
      ]
     },
     "execution_count": 49,
     "metadata": {},
     "output_type": "execute_result"
    }
   ],
   "source": [
    "weight_df = df_new.query(\"Weight > 0\")\n",
    "weight_df.Weight.describe(percentiles = [.99])"
   ]
  },
  {
   "cell_type": "code",
   "execution_count": 50,
   "metadata": {},
   "outputs": [
    {
     "data": {
      "text/plain": [
       "175        1\n",
       "151        1\n",
       "198        1\n",
       "190        1\n",
       "149        1\n",
       "       ...  \n",
       "70      9647\n",
       "60      9700\n",
       "75     10268\n",
       "72     17208\n",
       "73     30452\n",
       "Name: Weight, Length: 143, dtype: int64"
      ]
     },
     "execution_count": 50,
     "metadata": {},
     "output_type": "execute_result"
    }
   ],
   "source": [
    "weight_df.Weight.value_counts(ascending = True)"
   ]
  },
  {
   "cell_type": "code",
   "execution_count": 51,
   "metadata": {},
   "outputs": [
    {
     "data": {
      "text/html": [
       "<div>\n",
       "<style scoped>\n",
       "    .dataframe tbody tr th:only-of-type {\n",
       "        vertical-align: middle;\n",
       "    }\n",
       "\n",
       "    .dataframe tbody tr th {\n",
       "        vertical-align: top;\n",
       "    }\n",
       "\n",
       "    .dataframe thead th {\n",
       "        text-align: right;\n",
       "    }\n",
       "</style>\n",
       "<table border=\"1\" class=\"dataframe\">\n",
       "  <thead>\n",
       "    <tr style=\"text-align: right;\">\n",
       "      <th></th>\n",
       "      <th>ID</th>\n",
       "      <th>Name</th>\n",
       "      <th>Sex</th>\n",
       "      <th>Age</th>\n",
       "      <th>Height</th>\n",
       "      <th>Weight</th>\n",
       "      <th>Team</th>\n",
       "      <th>Year</th>\n",
       "      <th>Season</th>\n",
       "      <th>City</th>\n",
       "      <th>Sport</th>\n",
       "      <th>Event</th>\n",
       "      <th>Medal</th>\n",
       "    </tr>\n",
       "  </thead>\n",
       "  <tbody>\n",
       "    <tr>\n",
       "      <th>22136</th>\n",
       "      <td>12177</td>\n",
       "      <td>Ricardo Blas, Jr.</td>\n",
       "      <td>M</td>\n",
       "      <td>21</td>\n",
       "      <td>183</td>\n",
       "      <td>214</td>\n",
       "      <td>Guam</td>\n",
       "      <td>2008</td>\n",
       "      <td>Summer</td>\n",
       "      <td>Beijing</td>\n",
       "      <td>Judo</td>\n",
       "      <td>Judo Men's Heavyweight</td>\n",
       "      <td>NaN</td>\n",
       "    </tr>\n",
       "    <tr>\n",
       "      <th>22137</th>\n",
       "      <td>12177</td>\n",
       "      <td>Ricardo Blas, Jr.</td>\n",
       "      <td>M</td>\n",
       "      <td>25</td>\n",
       "      <td>183</td>\n",
       "      <td>214</td>\n",
       "      <td>Guam</td>\n",
       "      <td>2012</td>\n",
       "      <td>Summer</td>\n",
       "      <td>London</td>\n",
       "      <td>Judo</td>\n",
       "      <td>Judo Men's Heavyweight</td>\n",
       "      <td>NaN</td>\n",
       "    </tr>\n",
       "  </tbody>\n",
       "</table>\n",
       "</div>"
      ],
      "text/plain": [
       "          ID               Name Sex  Age  Height  Weight  Team  Year  Season  \\\n",
       "22136  12177  Ricardo Blas, Jr.   M   21     183     214  Guam  2008  Summer   \n",
       "22137  12177  Ricardo Blas, Jr.   M   25     183     214  Guam  2012  Summer   \n",
       "\n",
       "          City Sport                   Event Medal  \n",
       "22136  Beijing  Judo  Judo Men's Heavyweight   NaN  \n",
       "22137   London  Judo  Judo Men's Heavyweight   NaN  "
      ]
     },
     "execution_count": 51,
     "metadata": {},
     "output_type": "execute_result"
    }
   ],
   "source": [
    "weight_df.query(\"Weight == 214\")"
   ]
  },
  {
   "cell_type": "markdown",
   "metadata": {},
   "source": [
    "> While this wieght of 214 kg did seem like an odd outlier, Ricardo Blas Jr has weighed over 210 kg and is the heaviest Olympic athlete of all time"
   ]
  },
  {
   "cell_type": "code",
   "execution_count": 52,
   "metadata": {},
   "outputs": [
    {
     "data": {
      "image/png": "[encoded data removed]",
      "text/plain": [
       "<Figure size 576x360 with 1 Axes>"
      ]
     },
     "metadata": {},
     "output_type": "display_data"
    }
   ],
   "source": [
    "plt.figure(figsize=[8,5])\n",
    "bins = np.arange(20,220,10);\n",
    "plt.hist(data = weight_df, x = 'Weight', bins = bins)\n",
    "plt.xlabel('Weight of Athletes (kg)', fontsize = 12)\n",
    "plt.ylabel('Count', fontsize = 12);"
   ]
  },
  {
   "cell_type": "markdown",
   "metadata": {},
   "source": [
    ">  There are some outliers scattered from 125 kg to 214 kg that are obviously not as prevalent in the data as we can see in the histogram above. Most Olympic athletes weigh around 75 kg, but it will be interesting to see how the average weight has changed over time and how it varies between genders."
   ]
  },
  {
   "cell_type": "markdown",
   "metadata": {},
   "source": [
    "### Impressions of the Data\n",
    "\n",
    "> The univariate exploration basically provided an introductory look at the main variables of interest. As expected, there are far more male athletes than female athletes in this dataset given the fact that women have not had the same opportunities that men have had to participate in the Olympic Games. From the age distribution, it is clear that most Olympic athletes are between 20 and 25 years old. The youngest athlete was 10 years old and the oldest was 72 years old. There were some data entries with ages above 72 that were deleted. It is also important to note that this dataset is missing the athlete that competed at 72 years old. Finally, it was found that the United States has won the most medals of all time in the Olympics. The Soviet Union is second and Germany is third. Most athletes are around 170 - 180 centimeters tall and weigh around 75 kg. There are some astonishing outliers in this data that turned out to be accurate, such as Ricardo Blas Jr. who is the heaviest Olympic athlete of all time at a whopping 214 kg."
   ]
  },
  {
   "cell_type": "markdown",
   "metadata": {},
   "source": [
    "## Bivariate Exploration\n",
    "\n",
    "> In this section, we will  investigate relationships between pairs of variables in the\n",
    "data to gain more detailed insights."
   ]
  },
  {
   "cell_type": "markdown",
   "metadata": {},
   "source": [
    "Let's start off by taking a look at the number of male and female athletes in the Olympics over time."
   ]
  },
  {
   "cell_type": "code",
   "execution_count": 53,
   "metadata": {},
   "outputs": [
    {
     "data": {
      "image/png": "[encoded data removed]",
      "text/plain": [
       "<Figure size 864x432 with 1 Axes>"
      ]
     },
     "metadata": {},
     "output_type": "display_data"
    }
   ],
   "source": [
    "plt.figure(figsize = [12,6])\n",
    "sb.countplot(data = df_new, x = 'Year', hue = 'Sex')\n",
    "plt.xticks(rotation = 45, fontsize = 12)\n",
    "plt.xlabel('Year', fontsize = 12)\n",
    "plt.ylabel('Count', fontsize = 12);"
   ]
  },
  {
   "cell_type": "markdown",
   "metadata": {},
   "source": [
    "> The plot above shows that from 1896 to 1952, there were little to no female Olympians. However, as time went on, more and more female athletes started to compete. In 2016, The number of male and female athletes were almost even and both genders had over 6,000 athletes competing. Notice that after 1992, the total numbers of athletes start to alternate between high and low, while the highs are not as high as in the past. This is because the Summer and Winter Olympic Games began to stagger in when they took place."
   ]
  },
  {
   "cell_type": "markdown",
   "metadata": {},
   "source": [
    "We will now observe if the average age for male and female athletes differ."
   ]
  },
  {
   "cell_type": "code",
   "execution_count": 54,
   "metadata": {},
   "outputs": [
    {
     "data": {
      "image/png": "[encoded data removed]",
      "text/plain": [
       "<Figure size 576x360 with 1 Axes>"
      ]
     },
     "metadata": {},
     "output_type": "display_data"
    }
   ],
   "source": [
    "plt.figure(figsize = [8,5])\n",
    "sb.boxplot(data = df_new, x = 'Sex', y = 'Age', color = base_color)\n",
    "plt.xlabel('Sex', fontsize = 12)\n",
    "plt.ylabel('Age', fontsize = 12);"
   ]
  },
  {
   "cell_type": "markdown",
   "metadata": {},
   "source": [
    "> The age distribution for each gender is very similar, however it is interesting to note that the average female athlete is younger than the average male athlete in the Olympics."
   ]
  },
  {
   "cell_type": "markdown",
   "metadata": {},
   "source": [
    "Now we will observe the distribution of height between males and females."
   ]
  },
  {
   "cell_type": "code",
   "execution_count": 55,
   "metadata": {},
   "outputs": [
    {
     "data": {
      "image/png": "[encoded data removed]",
      "text/plain": [
       "<Figure size 576x360 with 1 Axes>"
      ]
     },
     "metadata": {},
     "output_type": "display_data"
    }
   ],
   "source": [
    "plt.figure(figsize = [8,5])\n",
    "sb.violinplot(data = height_df, x = 'Sex', y = 'Height', inner = 'quartile', color = base_color)\n",
    "plt.xlabel('Sex', fontsize = 12)\n",
    "plt.ylabel('Height (cm)', fontsize = 12);"
   ]
  },
  {
   "cell_type": "markdown",
   "metadata": {},
   "source": [
    "> Males tend to be taller than females and most male athletes are just under 180 cm tall, while most females are around 165 to 175 cm tall. Most of the talles athletes to ever compete in the Olympic Games were males. We must still keep in mind that more males have competed in these games over time since femalse did not have the same opportunities early on."
   ]
  },
  {
   "cell_type": "markdown",
   "metadata": {},
   "source": [
    "Let's take a look at the distribtuion of weight between these genders."
   ]
  },
  {
   "cell_type": "code",
   "execution_count": 56,
   "metadata": {},
   "outputs": [
    {
     "data": {
      "image/png": "[encoded data removed]",
      "text/plain": [
       "<Figure size 576x360 with 1 Axes>"
      ]
     },
     "metadata": {},
     "output_type": "display_data"
    }
   ],
   "source": [
    "plt.figure(figsize = [8,5])\n",
    "sb.violinplot(data = weight_df, x = 'Sex', y = 'Weight', inner = 'quartile', color = base_color)\n",
    "plt.xlabel('Sex', fontsize = 12)\n",
    "plt.ylabel('Weight (kg)', fontsize = 12);"
   ]
  },
  {
   "cell_type": "markdown",
   "metadata": {},
   "source": [
    "> Males are overall heavier than females and the heaviest athlete was a male. However, an interesting point revealed by the plot above is that the heaviest female athlete was roughly 170 kg!"
   ]
  },
  {
   "cell_type": "markdown",
   "metadata": {},
   "source": [
    "The previous plots have brough up some intriguing questions: how have the average heights and weights of Olympic athletes changed over time? Let's find out by starting with the average height over every other Olympic year."
   ]
  },
  {
   "cell_type": "code",
   "execution_count": 57,
   "metadata": {},
   "outputs": [
    {
     "data": {
      "image/png": "[encoded data removed]",
      "text/plain": [
       "<Figure size 576x360 with 1 Axes>"
      ]
     },
     "metadata": {},
     "output_type": "display_data"
    }
   ],
   "source": [
    "plt.figure(figsize=[8,5])\n",
    "heights = height_df.groupby('Year').mean()['Height'].values\n",
    "heights = heights[0: :2]\n",
    "years = height_df.groupby('Year').mean()['Height'].index\n",
    "years = years[0: :2]\n",
    "sb.pointplot(x = years, y = heights);\n",
    "plt.xticks(rotation = 45)\n",
    "plt.xlabel('Year', fontsize = 12)\n",
    "plt.ylabel('Average Height of Athletes (cm)', fontsize = 12);"
   ]
  },
  {
   "cell_type": "markdown",
   "metadata": {},
   "source": [
    "> There is no overall stable trend over all years in the plot above. However, from the 1960 to 1992, the average height of athletes has increased steadily and from 1992 onward, the change in average height has stagnated."
   ]
  },
  {
   "cell_type": "markdown",
   "metadata": {},
   "source": [
    "Now let's observe the average weight over the years."
   ]
  },
  {
   "cell_type": "code",
   "execution_count": 58,
   "metadata": {},
   "outputs": [
    {
     "data": {
      "image/png": "[encoded data removed]",
      "text/plain": [
       "<Figure size 576x360 with 1 Axes>"
      ]
     },
     "metadata": {},
     "output_type": "display_data"
    }
   ],
   "source": [
    "plt.figure(figsize=[8,5])\n",
    "weights = weight_df.groupby('Year').mean()['Weight'].values\n",
    "weights = weights[0: :2]\n",
    "years = weight_df.groupby('Year').mean()['Weight'].index\n",
    "years = years[0: :2]\n",
    "sb.pointplot(x = years, y = weights);\n",
    "plt.xticks(rotation = 45)\n",
    "plt.xlabel('Year', fontsize = 12)\n",
    "plt.ylabel('Average Weight of Athletes (kg)', fontsize = 12);"
   ]
  },
  {
   "cell_type": "markdown",
   "metadata": {},
   "source": [
    "> The plot for the average weight over time looks very similar to that of the average height. Oncer again, the only steady trend in the plot is a steady increase from 1960 to 1992. The graph seems to level off since thenn, however the average weight seems to be decreasing from 2008 to 2016."
   ]
  },
  {
   "cell_type": "markdown",
   "metadata": {},
   "source": [
    "## Impressions of the Data\n",
    "\n",
    "> The bivariate exploration allowed us dive deeper into the insights found from the univariate exploration. It was found that from 1896 to 1952, there were little to no female Olympians. However, as time went on, more and more female athletes started to compete as they were given more opportunities. In 2016, The number of male and female athletes were almost even and both genders had over 6,000 athletes competing. As a whole, males were older, taller, and heavier than females, however these differences have not been drastic. The trends for the average height and weight of Olympic athletes over the years have only been steady since 1960 where both have steadily increased until 1992 and leveled off as of more recent years."
   ]
  },
  {
   "cell_type": "markdown",
   "metadata": {},
   "source": [
    "## Multivariate Exploration\n",
    "\n",
    "> Finally, we will create plots of three or more variables to investigate the data even\n",
    "further."
   ]
  },
  {
   "cell_type": "markdown",
   "metadata": {},
   "source": [
    "An extremely useful visualization would be a heatmap that shows how many medals each of the top 10 all time winning teams has won each year."
   ]
  },
  {
   "cell_type": "code",
   "execution_count": 59,
   "metadata": {},
   "outputs": [
    {
     "data": {
      "image/png": "[encoded data removed]",
      "text/plain": [
       "<Figure size 864x432 with 2 Axes>"
      ]
     },
     "metadata": {},
     "output_type": "display_data"
    }
   ],
   "source": [
    "awarded = df_new[df_new['Medal'].notnull()]\n",
    "top_teams = awarded.Team.value_counts()[:10]\n",
    "top_10 = awarded[awarded['Team'].isin(top_teams.index)]\n",
    "top_counts = top_10.groupby(['Team', 'Year']).size()\n",
    "top_counts = top_counts.reset_index(name = 'count')\n",
    "top_counts = top_counts.pivot(index = 'Team', columns = 'Year', values = 'count')\n",
    "\n",
    "plt.figure(figsize = [12,6])\n",
    "sb.heatmap(top_counts, cmap = 'rocket_r')\n",
    "plt.title(\"Medals won by Top 10 Teams Over Time\", fontsize = 16, fontweight = 'bold')\n",
    "plt.xlabel('Year', fontsize = 14, fontweight = 'semibold')\n",
    "plt.ylabel('Team', fontsize = 14, fontweight = 'semibold');"
   ]
  },
  {
   "cell_type": "markdown",
   "metadata": {},
   "source": [
    "> The heatmap above has revealed several fascinating aspects of the data that we could not see before. It is evident that the United States has been the most consistent team over the years by winning many medals at each Olympic Games. Conversely, the Soviet Union has not been consistent over time. They did not win as many medals relatively other than an extremely powerful stretch from 1952 to 1988. They had by far the most dominant year than any other team has ever had when they won the most medals in 1990."
   ]
  },
  {
   "cell_type": "markdown",
   "metadata": {},
   "source": [
    "Finally, with multiple variables in our plots, we can observe how the average age of the Olympic Athlete has changed over time for each gender."
   ]
  },
  {
   "cell_type": "code",
   "execution_count": 60,
   "metadata": {},
   "outputs": [
    {
     "data": {
      "image/png": "[encoded data removed]",
      "text/plain": [
       "<Figure size 864x432 with 1 Axes>"
      ]
     },
     "metadata": {},
     "output_type": "display_data"
    }
   ],
   "source": [
    "plt.figure(figsize = [12,6])\n",
    "sb.pointplot(data = df_new, x = 'Year', y = 'Age', hue = 'Sex')\n",
    "plt.xticks(rotation = 90, fontsize = 12)\n",
    "plt.xlabel('Year', fontsize = 14)\n",
    "plt.ylabel('Age', fontsize = 14);"
   ]
  },
  {
   "cell_type": "markdown",
   "metadata": {},
   "source": [
    "> First of all we notice that the first female Olympian competed in 1900 and the average ages for these female athletes were rather high in the first few Omympic games. This is primarily due to the fact that there considerably less female athletes competing in these early years. This is also portrayed by the vertical error bars on these early points, which indicates that there is a high deviation for these means. This itself points to the fact that there was a relatively low number of female athletes. The average age for males, however, has been rather stagnant between 25 and 30 years old. As time went by, the average ages for both males and females became relatively close with the average female athlete slightly younger than males at around 25 years old. "
   ]
  },
  {
   "cell_type": "markdown",
   "metadata": {},
   "source": [
    "## Impressions of the Data\n",
    "\n",
    "> Through multivariate exploration of the data, there were several captivating insights that were discovered. The heatmap displayed that the United States has been the most consistent team over the years by winning many medals at each Olympic Games. On the other hand, the Soviet Union has been the most inconsistent over time. The Soviet Union overall has not won many medals each Olympic year, but from 1952 to 1988, they absolutely dominated. They had by far the most wins than any other team has ever had in a year when they won the most medals in 1990. As for the change in the average athlete's age over time, it was found that the first female Olympian competed in 1900 and the average ages for these female athletes were rather high in the first few Omympic games since there considerably less female athletes copeting in these early years. These average ages dropped down over time and the average ages for both males and females became relatively close with the average female athlete slightly younger than males at around 25 years old. The average age for males, however, has been rather stagnant between 25 and 30 years old over all of these years."
   ]
  },
  {
   "cell_type": "code",
   "execution_count": 61,
   "metadata": {},
   "outputs": [],
   "source": [
    "# save the final tidy dataset to the clean-data.csv file\n",
    "df_new.to_csv('clean-data.csv',index = False)"
   ]
  }
 ],
 "metadata": {
  "kernelspec": {
   "display_name": "Python 3",
   "language": "python",
   "name": "python3"
  },
  "language_info": {
   "codemirror_mode": {
    "name": "ipython",
    "version": 3
   },
   "file_extension": ".py",
   "mimetype": "text/x-python",
   "name": "python",
   "nbconvert_exporter": "python",
   "pygments_lexer": "ipython3",
   "version": "3.8.3"
  }
 },
 "nbformat": 4,
 "nbformat_minor": 2
}
